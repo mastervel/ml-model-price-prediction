{
 "cells": [
  {
   "cell_type": "code",
   "execution_count": 57,
   "id": "6f2a5b16",
   "metadata": {},
   "outputs": [
    {
     "name": "stdout",
     "output_type": "stream",
     "text": [
      "Setup Complete\n"
     ]
    }
   ],
   "source": [
    "import pandas as pd\n",
    "from xgboost import XGBRegressor\n",
    "from sklearn.metrics import mean_absolute_error\n",
    "from sklearn.model_selection import train_test_split\n",
    "from sklearn.tree import DecisionTreeRegressor\n",
    "from sklearn.ensemble import RandomForestRegressor\n",
    "\n",
    "import warnings\n",
    "warnings.filterwarnings('ignore')\n",
    "print('Setup Complete')"
   ]
  },
  {
   "cell_type": "code",
   "execution_count": 58,
   "id": "3ffd3c1d",
   "metadata": {},
   "outputs": [
    {
     "name": "stdout",
     "output_type": "stream",
     "text": [
      "Base Data Split Completed\n"
     ]
    }
   ],
   "source": [
    "df = pd.read_csv('/Users/veliristimaki/Code/ML model for housing price/HousingPrices-Amsterdam-August-2021.csv')\n",
    "df = df.drop('Unnamed: 0', 1)\n",
    "df = df.dropna(axis=0)\n",
    "features = ['Area', 'Room', 'Lon', 'Lat']\n",
    "X = df[features]\n",
    "y = df.Price\n",
    "X_train, X_valid, y_train, y_valid = train_test_split(X, y, random_state=1)\n",
    "print('Base Data Split Completed')"
   ]
  },
  {
   "cell_type": "code",
   "execution_count": 59,
   "id": "6a59c93f",
   "metadata": {},
   "outputs": [
    {
     "name": "stdout",
     "output_type": "stream",
     "text": [
      "Fitting Models Complete\n"
     ]
    }
   ],
   "source": [
    "xgb_model = XGBRegressor(random_state=1)\n",
    "xgb_model.fit(X_train,y_train)\n",
    "dt_model = DecisionTreeRegressor(random_state=1)\n",
    "dt_model.fit(X_train,y_train)\n",
    "rf_model = RandomForestRegressor(random_state=1)\n",
    "rf_model.fit(X_train,y_train)\n",
    "print('Fitting Models Complete')"
   ]
  },
  {
   "cell_type": "code",
   "execution_count": 60,
   "id": "ea5fbdc0",
   "metadata": {},
   "outputs": [
    {
     "name": "stdout",
     "output_type": "stream",
     "text": [
      "Mean Absolute Error of extreme gradient boosting model: 94628.29429347826\n",
      "Mean Absolute Error of Random Forest model: 95926.47878260868\n",
      "Mean Absolute Error of Decision Tree Model: 120439.07826086956\n"
     ]
    }
   ],
   "source": [
    "xgb_predictions = xgb_model.predict(X_valid)\n",
    "dt_predictions = dt_model.predict(X_valid)\n",
    "rf_predictions = rf_model.predict(X_valid)\n",
    "print(\"Mean Absolute Error of extreme gradient boosting model: \" + str(mean_absolute_error(xgb_predictions, y_valid)))\n",
    "print(\"Mean Absolute Error of Random Forest model: \" + str(mean_absolute_error(rf_predictions, y_valid)))\n",
    "print(\"Mean Absolute Error of Decision Tree Model: \" + str(mean_absolute_error(dt_predictions, y_valid)))\n"
   ]
  },
  {
   "cell_type": "code",
   "execution_count": null,
   "id": "fd96fe9b",
   "metadata": {},
   "outputs": [],
   "source": []
  }
 ],
 "metadata": {
  "kernelspec": {
   "display_name": "Python 3 (ipykernel)",
   "language": "python",
   "name": "python3"
  },
  "language_info": {
   "codemirror_mode": {
    "name": "ipython",
    "version": 3
   },
   "file_extension": ".py",
   "mimetype": "text/x-python",
   "name": "python",
   "nbconvert_exporter": "python",
   "pygments_lexer": "ipython3",
   "version": "3.9.7"
  }
 },
 "nbformat": 4,
 "nbformat_minor": 5
}
